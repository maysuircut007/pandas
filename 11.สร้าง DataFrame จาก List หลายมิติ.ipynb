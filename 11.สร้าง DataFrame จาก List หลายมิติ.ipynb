{
 "cells": [
  {
   "cell_type": "code",
   "execution_count": null,
   "metadata": {},
   "outputs": [],
   "source": [
    "import pandas as pd\n",
    "datas = [[\"คีย์บอด\", \"IT\", \"4000\"],[\"ตุ๊กตา\", \"ของเล่น\", \"500\"],[\"เมาส์\", \"IT\", \"300\"],[\"i phone\", \"mobile\", \"40000\"]]\n",
    "cols = [\"ชื่อสินค้า\", \"หมวดหมู่\", \"ราคา\"]"
   ]
  },
  {
   "cell_type": "code",
   "execution_count": null,
   "metadata": {},
   "outputs": [],
   "source": [
    "pd.DataFrame(datas, columns = cols)\n"
   ]
  },
  {
   "cell_type": "code",
   "execution_count": null,
   "metadata": {},
   "outputs": [],
   "source": []
  }
 ],
 "metadata": {
  "interpreter": {
   "hash": "0bb314bed882ddfa37154363865b226f1a9fc2602aa5e80397d08860f93a2e2c"
  },
  "kernelspec": {
   "display_name": "Python 3.9.7 64-bit ('py3': conda)",
   "name": "python3"
  },
  "language_info": {
   "codemirror_mode": {
    "name": "ipython",
    "version": 3
   },
   "file_extension": ".py",
   "mimetype": "text/x-python",
   "name": "python",
   "nbconvert_exporter": "python",
   "pygments_lexer": "ipython3",
   "version": "3.9.7"
  },
  "orig_nbformat": 4
 },
 "nbformat": 4,
 "nbformat_minor": 2
}
