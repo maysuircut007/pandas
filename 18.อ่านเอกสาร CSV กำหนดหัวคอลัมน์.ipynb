{
 "cells": [
  {
   "cell_type": "code",
   "execution_count": null,
   "metadata": {},
   "outputs": [],
   "source": [
    "import pandas as pd\n",
    "colsname = [\"NAME\", \"CATEGORY\", \"PRICE\"]"
   ]
  },
  {
   "cell_type": "code",
   "execution_count": null,
   "metadata": {},
   "outputs": [],
   "source": [
    "pf = pd.read_csv(\"product.csv\", encoding = \"utf-8\", names = colsname)\n",
    "# names => เปลียนชื่อคอลั่ม"
   ]
  },
  {
   "cell_type": "code",
   "execution_count": null,
   "metadata": {},
   "outputs": [],
   "source": [
    "pf"
   ]
  }
 ],
 "metadata": {
  "interpreter": {
   "hash": "0bb314bed882ddfa37154363865b226f1a9fc2602aa5e80397d08860f93a2e2c"
  },
  "kernelspec": {
   "display_name": "Python 3.9.7 64-bit ('py3': conda)",
   "name": "python3"
  },
  "language_info": {
   "codemirror_mode": {
    "name": "ipython",
    "version": 3
   },
   "file_extension": ".py",
   "mimetype": "text/x-python",
   "name": "python",
   "nbconvert_exporter": "python",
   "pygments_lexer": "ipython3",
   "version": "3.9.7"
  },
  "orig_nbformat": 4
 },
 "nbformat": 4,
 "nbformat_minor": 2
}
