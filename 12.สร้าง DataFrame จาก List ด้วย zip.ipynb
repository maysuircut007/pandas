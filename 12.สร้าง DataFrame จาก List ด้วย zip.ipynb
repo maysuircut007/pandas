{
 "cells": [
  {
   "cell_type": "code",
   "execution_count": null,
   "metadata": {},
   "outputs": [],
   "source": [
    "import pandas as pd\n",
    "name = [\"คีย์บอด\", \"ตุ๊กตา\", \"เมาส์\", \"i phone\",]\n",
    "category = [\"IT\", \"ของเล่น\", \"IT\",  \"mobile\",]\n",
    "price = [\"4000\", \"500\", \"300\", \"40000\"]\n",
    "\n",
    "cols = [\"ชื่อสินค้า\", \"หมวดหมู่\", \"ราคา\"]"
   ]
  },
  {
   "cell_type": "code",
   "execution_count": null,
   "metadata": {},
   "outputs": [],
   "source": [
    "datas = list(zip(name, category, price))\n",
    "datas"
   ]
  },
  {
   "cell_type": "code",
   "execution_count": null,
   "metadata": {},
   "outputs": [],
   "source": [
    "pd.DataFrame(datas, columns = cols)"
   ]
  }
 ],
 "metadata": {
  "interpreter": {
   "hash": "0bb314bed882ddfa37154363865b226f1a9fc2602aa5e80397d08860f93a2e2c"
  },
  "kernelspec": {
   "display_name": "Python 3.9.7 64-bit ('py3': conda)",
   "name": "python3"
  },
  "language_info": {
   "codemirror_mode": {
    "name": "ipython",
    "version": 3
   },
   "file_extension": ".py",
   "mimetype": "text/x-python",
   "name": "python",
   "nbconvert_exporter": "python",
   "pygments_lexer": "ipython3",
   "version": "3.9.7"
  },
  "orig_nbformat": 4
 },
 "nbformat": 4,
 "nbformat_minor": 2
}
